{
 "cells": [
  {
   "cell_type": "code",
   "execution_count": 3,
   "id": "7df68fd7",
   "metadata": {},
   "outputs": [
    {
     "name": "stdout",
     "output_type": "stream",
     "text": [
      "Used 5 Rose. Current quantity: 5\n",
      "Used 3 Tulip. Current quantity: 12\n",
      "Used 2 Lily. Current quantity: 6\n",
      "Selling bouquet...\n",
      "Rose: 5\n",
      "Tulip: 3\n",
      "Lily: 2\n",
      "Bouquet sold.\n"
     ]
    }
   ],
   "source": [
    "class Flower:\n",
    "    def __init__(self, name, quantity):\n",
    "        self.name = name\n",
    "        self.quantity = quantity\n",
    "\n",
    "    def order_more(self, quantity):\n",
    "        self.quantity += quantity\n",
    "        print(f\"Ordered {quantity} {self.name}. Current quantity: {self.quantity}\")\n",
    "\n",
    "    def use_flower(self, quantity):\n",
    "        if self.quantity >= quantity:\n",
    "            self.quantity -= quantity\n",
    "            print(f\"Used {quantity} {self.name}. Current quantity: {self.quantity}\")\n",
    "        else:\n",
    "            print(f\"Not enough {self.name} in stock.\")\n",
    "\n",
    "class Bouquet:\n",
    "    def __init__(self):\n",
    "        self.flowers = {}\n",
    "\n",
    "    def add_flower(self, flower, quantity):\n",
    "        if flower.name in self.flowers:\n",
    "            self.flowers[flower.name] += quantity\n",
    "        else:\n",
    "            self.flowers[flower.name] = quantity\n",
    "        flower.use_flower(quantity)\n",
    "\n",
    "    def sell_bouquet(self):\n",
    "        print(\"Selling bouquet...\")\n",
    "        for flower, quantity in self.flowers.items():\n",
    "            print(f\"{flower}: {quantity}\")\n",
    "        print(\"Bouquet sold.\")\n",
    "\n",
    "\n",
    "def main():\n",
    "    rose = Flower(\"Rose\", 10)\n",
    "    tulip = Flower(\"Tulip\", 15)\n",
    "    lily = Flower(\"Lily\", 8)\n",
    "\n",
    "    bouquet = Bouquet()\n",
    "    bouquet.add_flower(rose, 5)\n",
    "    bouquet.add_flower(tulip, 3)\n",
    "    bouquet.add_flower(lily, 2)\n",
    "\n",
    "    bouquet.sell_bouquet()\n",
    "\n",
    "if __name__ == '__main__':\n",
    "    main()\n"
   ]
  },
  {
   "cell_type": "code",
   "execution_count": null,
   "id": "9ed3ea03",
   "metadata": {},
   "outputs": [],
   "source": []
  }
 ],
 "metadata": {
  "kernelspec": {
   "display_name": "Python 3 (ipykernel)",
   "language": "python",
   "name": "python3"
  },
  "language_info": {
   "codemirror_mode": {
    "name": "ipython",
    "version": 3
   },
   "file_extension": ".py",
   "mimetype": "text/x-python",
   "name": "python",
   "nbconvert_exporter": "python",
   "pygments_lexer": "ipython3",
   "version": "3.9.13"
  }
 },
 "nbformat": 4,
 "nbformat_minor": 5
}
